{
 "cells": [
  {
   "cell_type": "markdown",
   "metadata": {},
   "source": [
    "# Hugging Face Transformers\n",
    "\n",
    "The library ``transformers`` from Hugging Face: http://huggingface.co provides a large collection of pre-trained transformers for a variety of NLP tasks.\n",
    "\n",
    "Since our goal at the moment is to quicktly get started with familiar NLP tasks, we will use these pretrained models for some common use-cases. An excellent place to get started quickly with these pretrained models is:\n",
    "\n",
    "https://huggingface.co/transformers/task_summary.html\n",
    "\n",
    "The following list from the Hugging Face website enumerates the tasks for which pre-trained transformers are available:\n",
    "\n",
    "* Sentiment analysis: is a text positive or negative?\n",
    "\n",
    "* Text generation (in English): provide a prompt and the model will generate what follows.\n",
    "\n",
    "* Name entity recognition (NER): in an input sentence, label each word with the entity it represents (person, place, etc.)\n",
    "\n",
    "* Question answering: provide the model with some context and a question, extract the answer from the context.\n",
    "\n",
    "* Filling masked text: given a text with masked words (e.g., replaced by [MASK]), fill the blanks.\n",
    "\n",
    "* Summarization: generate a summary of a long text.\n",
    "\n",
    "* Translation: translate a text in another language.\n",
    "\n",
    "* Feature extraction: return a tensor representation of the text.\n",
    "\n",
    "\n",
    "\n",
    "\n",
    "\n",
    "## pipeline()\n",
    "\n",
    "Perhaps the quickest way to get started with using the pretrained transformer models in this library, is to use the pipeline function. All we have to do is pass as argument the name of the task for which a pretrained transformer exists.\n",
    "\n",
    "## Sentiment Analysis\n",
    "Consider the case where we would like to perform a simple sentiment analysis on some text.\n"
   ]
  },
  {
   "cell_type": "code",
   "execution_count": 65,
   "metadata": {
    "ExecuteTime": {
     "end_time": "2020-10-08T03:20:20.098308Z",
     "start_time": "2020-10-08T03:20:15.668962Z"
    }
   },
   "outputs": [
    {
     "data": {
      "text/plain": [
       "[{'label': 'POSITIVE', 'score': 0.9996930956840515}]"
      ]
     },
     "execution_count": 65,
     "metadata": {},
     "output_type": "execute_result"
    }
   ],
   "source": [
    "from transformers import pipeline\n",
    "sentimental = pipeline(\"sentiment-analysis\", device=0)\n",
    "sentimental('Some of us love the Deep Learning workshops at SupportVectors!')"
   ]
  },
  {
   "cell_type": "markdown",
   "metadata": {},
   "source": [
    "### Passing a batch of text for sentiment analysis\n",
    "In the above case, we passed a single piece of text. What if we had multiple pieces of text? These can be passed an an array.\n",
    "\n",
    "If you observe the results, you will notice that the sentiment analysis task in NLP is a work-in-progress. Even the transformer architectures are not able to many of them right. This is not far from the state-of-the-art performance at the moment. So there remains a lot of scope for improvement.\n"
   ]
  },
  {
   "cell_type": "code",
   "execution_count": 67,
   "metadata": {
    "ExecuteTime": {
     "end_time": "2020-10-08T03:26:19.131328Z",
     "start_time": "2020-10-08T03:26:19.100155Z"
    },
    "scrolled": true
   },
   "outputs": [
    {
     "name": "stdout",
     "output_type": "stream",
     "text": [
      "       POSITIVE (0.99764) <== Some of us love the being fired at our jobs\n",
      "       POSITIVE (0.99978) <== Today, the sky is shining, and the birds are flying\n",
      "       POSITIVE (0.99984) <== All is well that ends well\n",
      "       POSITIVE (0.99952) <== The autumn leaves wafting in the gentle breeze\n",
      "       NEGATIVE (0.98853) <== It was a dark and gloomy night\n",
      "       POSITIVE (0.98478) <== Good grief! the turmoil of elections are upon us again!\n",
      "       NEGATIVE (0.97952) <== The train slowed down as it neared the station\n"
     ]
    }
   ],
   "source": [
    "import textwrap\n",
    "\n",
    "text_list = [\n",
    "    'Some of us love the deep learning workshops at SupportVectors',\n",
    "    'Today, the sky is shining, and the birds are flying',\n",
    "    'All is well that ends well',\n",
    "    'The autumn leaves wafting in the gentle breeze',\n",
    "    ''\n",
    "    'It was a dark and gloomy night',\n",
    "    'Good grief! the turmoil of elections are upon us again!',\n",
    "    'The train slowed down as it neared the station'\n",
    "]\n",
    "\n",
    "results = sentimental(text_list)\n",
    "\n",
    "for result, text in zip (results, text_list):\n",
    "    print(f\"{result['label']:>15s} ({round(result['score'], 5):>5}) <== {textwrap.shorten(text, 60)}\")"
   ]
  },
  {
   "cell_type": "markdown",
   "metadata": {
    "ExecuteTime": {
     "end_time": "2020-10-08T01:36:35.523852Z",
     "start_time": "2020-10-08T01:36:35.367431Z"
    }
   },
   "source": [
    "### Yelp Review Samples"
   ]
  },
  {
   "cell_type": "code",
   "execution_count": 7,
   "metadata": {
    "ExecuteTime": {
     "end_time": "2020-10-08T01:39:42.822655Z",
     "start_time": "2020-10-08T01:39:36.701171Z"
    }
   },
   "outputs": [
    {
     "name": "stdout",
     "output_type": "stream",
     "text": [
      "Computed sentiments on 100 reviews!\n"
     ]
    }
   ],
   "source": [
    "from typing import List\n",
    "import textwrap\n",
    "from transformers import pipeline\n",
    "import pandas as pd\n",
    "import re\n",
    "\n",
    "sentimental = pipeline(\"sentiment-analysis\")\n",
    "YELP_REVIEWS = '../../text/smaller_yelp_review.json'\n",
    "\n",
    "index = 0\n",
    "sentiments = pd.DataFrame(columns=['label', 'score', 'review'])\n",
    "\n",
    "with open(YELP_REVIEWS) as f:\n",
    "    for line in f.readlines():\n",
    "        reviews: List[str] = re.findall('text\":\".*?\"', line)\n",
    "        if reviews:\n",
    "            review = reviews[0]\n",
    "            review = review.lstrip('text\":\"').rstrip('\"')\n",
    "            result: dict = sentimental(review)[0]\n",
    "            result['review'] = review\n",
    "            sentiments.loc[index] = {'label': result['label'], \n",
    "                                     'score': result['score'], 'review': result['review']}\n",
    "            index += 1\n",
    "print(f'Computed sentiments on {index} reviews!')"
   ]
  },
  {
   "cell_type": "code",
   "execution_count": 70,
   "metadata": {
    "ExecuteTime": {
     "end_time": "2020-10-08T03:37:28.200899Z",
     "start_time": "2020-10-08T03:37:28.185225Z"
    }
   },
   "outputs": [
    {
     "name": "stdout",
     "output_type": "stream",
     "text": [
      "\n",
      "\n",
      " 1: As someone who has worked with many museums, I was eager to visit this gallery on my most recent trip to Las Vegas. When I saw they would be showing infamous eggs of the House of Faberge from the Virginia Museum of Fine Arts (VMFA), I knew I had to go!\\n\\nTucked away near the gelateria and the garden, the Gallery is pretty much hidden from view. It's what real estate agents would call \\ END\n",
      "\n",
      "\n",
      " 1: I am actually horrified this place is still in business. My 3 year old son needed a haircut this past summer and the lure of the $7 kids cut signs got me in the door. We had to wait a few minutes as both stylists were working on people. The decor in this place is total garbage. It is so tacky. The sofa they had at the time was a pleather sofa with giant holes in it. And my son noticed ants crawling all over the floor and the furniture. It was disgusting and I should have walked out then. Actually, I should have turned around and walked out upon entering but I didn't. So the older black male stylist finishes the haircut he was doing and it's our turn. I tell him I want a #2 clipper around the back and sides and then hand cut the top into a standard boys cut. Really freaking simple, right? WRONG! Rather than use the clippers and go up to actually cut the hair, he went down. Using it moving downward doesn't cut hair, it just rubs against it. How does this man who has an alleged cosmetology license not know how to use a set of freaking clippers??? I realized almost immediately that he had no idea what he was doing. No idea at all. After about 10 minutes of watching this guy stumble through it, I said \\ END\n",
      "\n",
      "\n",
      " 1: I love Deagan's. I do. I really do. The atmosphere is cozy and festive. The shrimp tacos and house fries are my standbys. The fries are sometimes good and sometimes great, and the spicy dipping sauce they come with is to die for. The beer list is amazing and the cocktails are great. The prices are mid-level, so it's not a cheap dive you can go to every week, but rather a treat when you do. Try it out. You won't be disappointed! END\n",
      "\n",
      "\n",
      " 1: Dismal, lukewarm, defrosted-tasting \\ END\n",
      "\n",
      "\n",
      " 1: Oh happy day, finally have a Canes near my casa. Yes just as others are griping about the Drive thru is packed just like most of the other canes in the area but I like to go sit down to enjoy my chicken. The cashiers are pleasant and as far as food wise i have yet to receive any funky chicken. The clean up crew zips around the dining area constantly so it's usually well kept. My only gripe is the one fella with Red hair he makes the rounds while cleaning but no smile or personality a few nights ago he tossed the napkins i just put on the table to help go with my meal. After I was done he just reached for my tray no \\ END\n",
      "\n",
      "\n",
      " 1: This is definitely my favorite fast food sub shop. Ingredients are everything, and everything I see and taste here tells me that they're using top-grade fresh ingredients. The brisket sandwich is probably my favorite... and it's the one my wife ALWAYS gets. Unlike her, I often bounce around the menu to try different things. Definitely a step up from Subway, Quiznos, Jimmy Johns, etc in my opinion. As with all of my reviews, I grade each place relative to what I perceive to be its peers - so five star compared to them. END\n",
      "\n",
      "\n",
      " 1: Really good place with simple decor, amazing food and great hospitality.\\nVery impressed with the lunch portion. Although service took little extra time but I have no complaints since they are quite new in business. The green curry chicken was good and to the right spice balance I asked for. I will definitely recommend this place to others. END\n",
      "\n",
      "\n",
      " 1: Awesome office and staff, very professional and friendly. I saw Adam Garling PA-C and his assistant, they were very friendly, professional, and helpful. I highly recommend Centennial Dermatology! I will definitely return for more visits. END\n",
      "\n",
      "\n",
      " 1: Most delicious authentic Italian I've had in the US. You wouldn't leave this place unhappy. The setting is cozy and a perfect spot for VD, anniversaries, or a special date. They'll make you feel like you're in Italy. END\n",
      "\n",
      "\n",
      " 1: I have been here twice. Very nice and laid back. I tried the weekend Southern menu and it was delicious! Collard greens, mac&cheese, ribs, BBQ chicken sandwich. The scone with clotted cream was divine!!!! The iced teas are very refreshing and I swear I drank a whole container myself both visits. \\nThe second time I had soup, salad and a sandwich. The salad had this amazing (raspberry? strawberry?, I forgot) vinaigrette. The sandwich was good, but I was kind of disappointed with the soup. It was potato and tasted too \\ END\n",
      "\n",
      "\n",
      " 1: Maria is VERY good at what she does with great prices, too! I've always had a hard time finding someone to fix my jeans just right and she did it! I'm short with a small waist and a bit of a butt :) So that means every pair of jean I get have to be altered.  And Maria does a wonderful job with reasonable prices.  She's done more than10 pairs of jeans and a few shirts and only one needed fixing.  I even lost weight and had to get a pair redone, it was a bit of a challenge but she did a beautiful job. END\n",
      "\n",
      "\n",
      " 1: ORDER In (Delivery) Review\\n\\nI discovered this place from the front desk of the airport hotel and they recommended it highly. I called to place my order for Delivery to my room. They were very accommodating.\\n\\nWon Ton Soup - nice broth and tender won tons.\\n\\nChicken with Diced vegetables and Cashews - again, fresh vegetables were used, and good sized pieces of chicken.\\n\\nCrispy Beef - much like a Ginger Beef, nice serving of Beef with a sweet chilli sauce. Very tasty.\\n\\nBroccoli in Garlic sauce - came with peppers,Onions , Broccoli was not over done.\\n\\nAll in all for Delivery , this was really good. I am used to going to Authentic Asian in Vancouver. This hit the spot, and they also sent me a nice tub of Chilli Oil because I like it Hot. END\n",
      "\n",
      "\n",
      " 1: We purchased new office furniture from this location.  We were advised the shipment would arrive in 3 business days.  The shipment was delivered the same day as promised.  We received excellent service from the first step into their showroom at their location on Dean Martin, all thru the delivery.  Very positive experience and great pricing for the quality items we purchased.  Very pleased and will be purchasing more furniture from this store. END\n",
      "\n",
      "\n",
      " 1: Everything that my husband and I tried today was amazing. I am glad I got to try something different of what I normally would because i was really pleasantly surprised. We also order one sushi roll because we had to try at least one and we loved it! Definitely will be coming back to try more things. Place is really small, and there was only one server, but we came when it was really slow and the service was pretty fast. All in all very happy we got to try this place out. END\n",
      "\n",
      "\n",
      " 1: Called for a 5:15 morning reservation. The driver was here before 5 and didn't alert us, just parked outside quietly. Also he helped out with the luggage and responded to our request of stopping at a differmet place first. Overall 5 star service! END\n",
      "\n",
      "\n",
      " 1: If I could give less than one star, that would have been my choice.  I rent a home and Per my lease agreement it is MY responsibility to pay their Pool Service company.  Within the last year they changed to PoolServ.  I have had  major issues with new techs every week, never checking PH balances, cleaning the filter, and not showing up at all 2 weeks in the past 2 months. I have had 4 different techs in the past 4 weeks.   I have emailed and called them and they never respond back nor even acknowledged my concerns or requests.  I cannot change companies but I'm required to still pay for lousy or no service.  Attached are a couple pictures of my pool recently due to one tech just didn't put any chlorine in it at all according to the tech who came the following week to attempt to clean it up.  Please think twice before working with these people.  No one wants to work with a business that doesn't return phone calls or emails. END\n",
      "\n",
      "\n",
      " 1: 10pm on a super bowl Sunday and they're already closed?? Weak, no wonder the hard Rock is dying off... END\n",
      "\n",
      "\n",
      " 1: A close friend was in town and so instead of taking him to a more well established joint, we decided to try the newly opened Choolah. We were not disappointed.\\n\\nI am a bit of an amateur chef myself and consider my palate to be fairly sophisticated when it comes to all kinds of South Asian cuisine. This is not authentic Indian food - we don't have rice and salad bowls - but it is good, wholesome, high quality Indian food.\\n\\nI ordered a bowl of rice, yellow daal and the koftas (meatballs). The daal was perfect, the way daal should be cooked. The koftas were a little bland for my taste, but otherwise not bad...soft and the right texture. Paired with the many sauces and onions and the whole dish was wholesome and rich and very filling. My friend ordered the biryani, which, while not bad, still isn't the way real biryani should be, and I come from a city known for its biryani - but then I still haven't found a single place in America that makes biryani the way they do it back home.\\n\\nThe ambiance is good and there's plenty of room to sit. The line moves quickly and at most you'll face a 10-15 min wait on a crowded day. The only issue I had was with the music - being a designer, it bothers me that the music selection to go with such great interiors  could have been better...I would expect Bollywood classics or Indian classical fusion instead of the usual loud pop music.\\n\\nTldr: if you're looking for authentically prepared and presented Indian food you'll be disappointed. If you're looking for high quality Indian-American food, this is a great place to get it. Will be coming back to try their tikka masala and chicken next.\\n\\nUpdate: went there again with a bunch of friends and tried their chicken tikka masala and pav bhaji. This is hands down the best Indian place in Pittsburgh - the bhaji is to die for. Make sure you sprinkle lemon on top and have the pav with mango chutney. END\n",
      "\n",
      "\n",
      " 1: Tried to have my car repaired.  Even made an appointment.  I was told that all my appointment was for is to meet the service advisor, not get any work completed on my car.  Such a waste of time.  Even talked to the Service Manager, he didn't care.  Since that was the attitude of the service department, I can only expect that from the mechanics that would have worked on my car.  Went to another dealership, made an appointment and my car went in to be repaired.  Not told to come back later and they might get to my car. Very poor service. END\n",
      "\n",
      "\n",
      " 1: My husband and I go there once a week since last year. We LOVE seafood. Unfortunately, I regretfully say that this place is a hit and miss for us. Some weeks are good, fresh and saucy. Some weeks can be completely opposite. I never thought about writing a review until our experience last week. \\nWe ordered medium chicken wings and hot trifecta 2 lbs of shrimp. The wings came out SUPER spicy (probably hot) and the shrimp came out plain ( 99% butter and 1% spices). When we ordered we asked to make sure we have enough sauce but they came in almost dry. My husband and I love this place but we just never know what we will get that night. We just dodge the bullet and hopefully they will be better than last week. END\n",
      "\n",
      "\n",
      " 1: AMAZING. Simply amazing. Believe all of the hype and go out of your way to try this place. \\n\\nMy partner and I lucked out and ended up staying just a stones throw away. So, our first morning in Mile End, we popped in to give it a shot. We ended up going every morning (and once in the afternoon) after that because it was just that damn good. \\n\\nIt's cheap (like 85¢ and up), the staff speaks good English and those guys churn out wood fired bagel perfection 24 hours a day. \\n\\nI highly recommend the \\ END\n",
      "\n",
      "\n",
      " 1: Holy heck this place is amazing. I love their chicken tacos they're by far my favorite. Great customer service and all round awesome experience. END\n",
      "\n",
      "\n",
      " 1: Coconut's Fish Cafe is a fantastic, Five Stars fish cafe.\\n\\nThe five of us drove here on our lunch hour and lucky us, there were only a few customers in line. Nice!  A good sign, when UR working against a clock. \\n\\nI ordered the Póke (Photo) for $11.99 which was outstanding.  I love fresh Tuna and Coconut's might be some of the best I've every had.  Order it and see!\\n\\nMy coworkers ordered, the Chicken Tacos for $11.99, Steak Tacos (Photos) for $11.49, Fish Taco for $10.99 and a cup of Chowder for $5.74. Add in a few IPAs, or soft drinks and we all averaged about $15 each.\\n\\nI tried my friend Josh's Fish Tacos and his was great, too.  So why they Four Star review, Georgie? Well the non fish group thought theirs was average. Okay, so you go to a place called Coconut's Fish Cafe and you order chicken and steak?  I'm sorry, that is so LOL. \\n\\nStep away from the meat taco guys and no one will get hurt!  Order the Poke, Fish or Shrimp Tacos and you'll fall in love with Coconut's Fish Cafe as I did.\\n\\nEnjoy! END\n",
      "\n",
      "\n",
      " 1: I love the classes at this gym. Zumba and. Radio Hip Hop are my favorite. This is such a great fun and I love that it is so reasonably priced! END\n",
      "\n",
      "\n",
      " 1: As the previous person posted, what more can really be said about this restaurant. I just came back from Vegas this morning and a truly truly horrible experience.  I only went out there for a concert and the concert and this restaurant were the best parts of my trip.  I went in here accidentally, meaning, i had no clue it was Bobby Flay's restaurant. I was hungry and Caesars Palace was a across from where I was staying and all the restaurants in my hotel were packed and had lines, I walked right in with no waiting. (I will assume now that since its Bobby's place this place can get crowded so I feel the need to note this was a Sunday about 11:45am) Once inside Caesars Palace, I went to the first restaurant I saw, which was this one.  I realized mid-meal it was his restaurant when the waiter at the table next to me was explaining to the recently seated couple that \\ END\n",
      "\n",
      "\n",
      " 1: In the heart of Chinatown, I discovered it enroute to Kensington Market one day. It's quite hard to see, if you don't know it's there. First experience was very positive - would definitely return!\\n\\nATMOSPHERE: Small space. Think Banh Mi Boys, and other trendy over-the-counter eateries. Vibe is casual. Free WiFi is nice.\\n\\nSERVICE: Okay. Staff does their job, but not overly helpful upon entering the space. Maybe because it's an over-the-counter style place, but it would have been nice to be walked through their ordering process and menu.\\n\\nPRICE: Average. Depends on the size of pizza you order.The small pizza ($7-9.50) is filling for one. Large size pizza ($13-18.50) is good for sharing... or one VERY hungry person.  Pasta portions are very generous for the price tag ($9-14)\\n\\n\\nFOOD: My friends and I were here for the first time, and we thought it was a pizza place so we all ordered pizza. It wasn't until we were waiting for the food to come, that we looked around and realised EVERY other table around us only had pasta on them. Guess we gotta come back to try! We did notice that the menu said their pasta is homemade. So will definitely come back.\\n\\nHere's the pizza we ordered:\\n\\nPeking Duck Pizza - Very tasty! Rich flavours that work well. But it's heavy, so come hungry - or order to share.\\n\\nMargherita - Good, but not the best. I recommend trying the more \\ END\n",
      "\n",
      "\n",
      " 1: Always a fun outing to come for great hot dogs and ALL the fixings!  A great place to bring out of town company for a good lunch a new experience. END\n",
      "\n",
      "\n",
      " 1: Was a Chicago style deep dish.  Homemade type crust, good sauce. I ordered extra cheese, Italian sausage, canadian bacon and jalepeno!!\\nWas GOOD AND definitely filling!!! END\n",
      "\n",
      "\n",
      " 1: First time eating there and everything was so yummy! Great pizza and Salad, my son had the meatball sub he said it was very good, must have been because he wouldn't share. Highly recommend. END\n",
      "\n",
      "\n",
      " 1: Just... not good.  We want it to be - we have been several times hoping, but the experience is always at best, lackluster.  The food is not great, very run-of the mill on a good day and the serve staff though very nice is always - and I have never had the same person twice - always totally lost and under-trained.  It blows my mind because they can't possibly know alcohol laws if they don't know anything about the menu - going to bite that company one day.  I am not sure but I think someone I know told me they do the shared tip thing and I thought maybe that may be why but I know another place that does that and the service is excellent.  I don't know what the problem is - I have worked in the industry before while in college and I would say front of the house training needs big overhaul.  At any rate, they have lots of TV's and it is closer to us but just plain not good.  I wish they would switch locations with Wild Wing Cafe - also chain-y but much better food and service. END\n",
      "\n",
      "\n",
      " 1: This was our choice, by default, for New Year's Eve dinner this year. See, we chose not to make reservations, but instead just wing it and see where we could get in. They had some early dining availability, so we jumped on it. Their special New Year's \\ END\n",
      "\n",
      "\n",
      " 1: The employees are so friendly and hard working! Keep it up! The store is very clean... I love subway sooooooooo much!!! :) END\n",
      "\n",
      "\n",
      " 1: This actually used to be one of my favorite hotel\\/casinos back in the day.  Oh, how things have changed.\\n\\nThere are some goods, however.  If you are a conventioneer, you have instant and direct walking access to the main convention center.  But don't think about parking here for said conventions.  $30 a day for parking, Hilton?  Seriously?  That's robbery.  And greed.\\n\\nThe biggest disappointment is the killing off of Star Trek: The Experience over two years ago.  Despite this place being off-Strip, I made it a point to go here because they had such a fun and unique attraction here.  It would be one thing if they had something in mind to replace it, but either poor planning or the economy.... It's dead, Jim. \\n\\nThe \\ END\n",
      "\n",
      "\n",
      " 1: Horrible- Unclean, rancid, foul odors, unkempt, and poor service. The restaurant was nearly empty, and the cashier didn't even look up to say hello as my husband stood hungrily grinning at the counter. Needless to say, I talked him into driving up the road to the other location. This one is unacceptable. END\n",
      "\n",
      "\n",
      " 1: The service is attentive. The decor attractive. But the menu is far too doused in polenta and paprika. The fingerling potatoes? Drenched in paprika. The aioli?Mixed with paprika. The appetizer? Fried polenta. The fish? Polenta crusted. It's worth a try. But be forewarned. The chef must shop at Costco. END\n",
      "\n",
      "\n",
      " 1: This is a wonderful nail shop! Eric the owner is so hospitable, he takes time and effort on your nails to perfect them! I love my nails, they're so cute and symmetrical. Definitely will be coming back to this spa and salon! If you're thinking about going, Don't even question it, just go! END\n",
      "\n",
      "\n",
      " 1: Who knew?\\n \\nI did! \\n\\nI remember eating many many many times way back in the early childhood of Chipotle back in Denver. Like the picture on the wall in every Chipotle. (yep on evans and university) I had a feeling this place was going somewhere and Chaching!\\n\\nAnyway, long story short, as we all have eaten at a Chipolte somewhere. It simply is the best quick healthyish mexican there is period! \\n\\nOn a side note if you are one of those wierd vegan people this is my favorite burrito (veggie fajita black w\\/ all the salsas no queso or crema greens and of course 3 lbs of guac!) Yuuuuuuuuuuuuummmmmmmmmaaaaaeeeeeee!!!!! END\n",
      "\n",
      "\n",
      " 1: The ingredients are always fresh and I like that I can customize everything. The price for the pita\\/salad is reasonable, but after the delivery fee of $3, it can be pricey. Definitely a great option if I forget my lunch at home. END\n",
      "\n",
      "\n",
      " 1: Room was very clean.  Staff was exceptionally nice for a mid-level hotel.  It had a parking lot right out the front door.  The free breakfast seemed generous (I didn't partake).\\n\\nWhat more can one ask?  \\n\\nI'd stay here again. END\n",
      "\n",
      "\n",
      " 1: A very busy restaurant, make reservations, but well worth it.    Our party ordered the short ribs, salmon and steam bass for our main entrees and each dish was outstanding.   Will definitely go back to this restaurant when we are back in the Phoenix area. END\n",
      "\n",
      "\n",
      " 1: There wasn't one specific thing that made this buffet so horrible... It's just the accumulation of everything being less than average quality. There are plenty of options, but none of them were flavorful, hot, or worth filling up on.\\n\\nSome others have commented on the dessert section being worthwhile, but to us everything tasted unthawed and on the stale side. The Asian section had probably the best offerings but all were still fairly bland.\\n\\nThe worst part is that when I was going to grab a slice from the pizza station, someone had placed the tongs directly on TOP of the pizza... So all the hand germs were in direct contact with the food! There were two workers right there who didn't think this was disgusting.. I would have discarded the slices.\\n\\nMy husband and I both left with unsatisfied stomachs and looked forward to the second dinner we would have a few hours later at a much better establishment. END\n",
      "\n",
      "\n",
      " 1: I stayed here back in April. Friday-Sunday. It's a nice hotel and the room had a great view. This is just another building that is part of the Palms. It has no casino and is just used for rooms. \\n\\nWe had the two room suite with 3 bathrooms, and 2 full kitchens. The main bathroom had a huge shower. I swear you can fit around 12+ people if thats what you want to do ;) They also have a tub in the middle of the room so you can watch your girl take a bath? lol The place was beautiful but was it worth the $2000?? I'd say yes, but the only major downside is that it's far from the strip. Would I do it again? Probably not since you can get a nice suite for the same price at a nice hotel and be on the strip. Another downside was that you cannot go out onto the patio. They lock all the sliding doors. That was a big downside for me! END\n",
      "\n",
      "\n",
      " 1: Had brunch here Sunday with a friend. The meal was very good. I mean the options were limited but over all a solid brunch! I've only come to Brewsters on one other occasion so I can't speak to the service before as it was at another location in Calgary. The place wasn't busy. The staff was rather slow but the food was good so no complaints on that.\\n\\nI had the southwestern omelette and I LOVED the salsa inside it was so yummy and really added a nice touch to the meal. Prices were also fair. I decided to branch out from my usual egg benny. It was a nice change. END\n",
      "\n",
      "\n",
      " 1: As a spicy food fan, when I see a restaurant called Hot & Spicy, I add it to my must try list.\\n\\nI decided to give Radica's a shot shortly after seeing the title of the restaurant. On first glance, the restaurant was super clean and new. A really nice environment for a fast food style joint! \\n \\nBetween my fiance and I, we ordered two roti's - one spicy chicken and the other a medium goat roti. Oh boy, the roti's were awesome! Fresh, packed with flavor and actually spicy.  Portions were huge as well! \\n\\nWe also tried a shrimp double. This was my first time trying a double. It was ok, but the real star of the show was the roti's.\\n\\nIf you're looking for genuinely good roti with a kick of spice, I'd say this is the spot! END\n",
      "\n",
      "\n",
      " 1: Was super excited to bring my boyfriend to this Scaddabush location after going to the Richmond Hill location months back with friends and have been craving their mozzarella balls ever since! \\n\\nWe arrived and were seated at 8:15, and since reviewing the menu before hand, we placed out order with our waitress right away. We ordered the 'Naked' mozzarella to start and for mains the Penne Bolognese and Margherita pizza. \\n\\nThe waiting game was okay, we got our appetizer about 25 mins of waiting. Once arriving, the first thing I noticed was how small the mozzarella ball was compared the he Richmond Hill location. However, it was delicious ! I was reminded on why I chose this restaurant for dinner. \\n\\nAs for the mains, we waited and waited and waited. We had seen a male (possibly manager?) walk around with pizza slices and deliver them to some tables, however not ours. As he went to the table next to us we could overhear him apologizing for the wait time for their meals. \\n\\nAt around 9:05 our meals did arrive. The pizza was good,  definitely not enough cheese but will do. My boyfriend did really like his pasta. \\n\\nOverall, I would say I would come back to Scaddabush. Possibly just for the mozzarella balls but as our mains were just okay and nothing special, wouldn't choose this location for a full dinner again. END\n",
      "\n",
      "\n",
      " 1: If you are looking for something refreshing and delicious, this is your one stop shop! I've tried two drinks here and their delicious Japanese styled crepe that was filled with nutella and mouthwatering strawberries and bananas. There are other options as well. Their drinks are very customizable and if you think it's not perfect even after you get it, you can get it adjusted. The service is super friendly and the aura is welcoming. It's a clean environment where all the senses are in for a treat though the mesmerizing smell from the freshly made crepes, the refreshing sip from their drinks, to the perfect texture of their boba. I'm not from the area but anytime I'm on my way to Vegas, I'm stopping by first to get my boba fix. \\n\\nTry the Hawaiian Paradise. You won't regret it. END\n",
      "\n",
      "\n",
      " 1: A margarita in clear plastic dickie cup??? Wtf?? The drunkin shrimp plate should of been called the goldfish feeder shrimp platter.. END\n",
      "\n",
      "\n",
      " 1: Happy to give a strong recommendation to this place - fun atmosphere, great service, excellent food... and really loved the made-at-the-table s'mores!\\n\\nI recommend this for anyone who has out of town guests for a little bit of the 'old west' and good fun.  All you can eat BBQ on Saturday and Sunday during the day. END\n",
      "\n",
      "\n",
      " 1: I have been coming to this sweet little place for years and think they deserve my compliments.\\nThe food is french in a not too serious and snobbish way. \\nThe wine is best enjoyed outside in the evening overlooking the \\ END\n",
      "\n",
      "\n",
      " 1: Food was piping hot, which is great!! Had the buffet...and it truly is all you can eat!! You order whatever you want off the menu (except chitlins) and they bring it out to you!!! Mac n cheese, greens, and black eyed peas were pretty good!! Fried chicken was pretty good too! Will come back!! END\n",
      "\n",
      "\n",
      " 1: The tables and floor were dirty. I was the only customer on a Saturday nite and  the person working the counter ignored me I had a corned beef sandwich. I took three bites  and threw it in the trash END\n",
      "\n",
      "\n",
      " 1: If you are looking for a fresh yummy breakfast on the weekend in Waunakee you must try Cuco's. They have your traditional American breakfast choices or some tasty Mexican dishes. The food is fresh and comes out sizzling hot. \\n\\nThe service is excellent and the restaurant is very clean. END\n",
      "\n",
      "\n",
      " 1: So I don't give out 5 stars frivolously, but this place deserves it. Everything I had (summer rolls, vegan pizza burger and chocolate chip cookies) was delicious. The service was great and the waitress helped me narrow down the never ending yummy looking options on the menu. They even gave me a smoothie sample while I waited.\\n\\nNext time I'm in Cleveland, I'll definitely stop back in. I may even be coming for dinner today. END\n",
      "\n",
      "\n",
      " 1: Passed by here after we went to raijin ramen and thought everything looked super cute. Bought 3 bread, the charcoal salted egg, an almond croissant and a coffee walnut bread. All three, after discount came to almost 20$. I was quite excited but upon trying them all, the croissant was pretty good (but I've had better, ie nadege, etc) but the other two were very mediocre. The salted egg bread was very one dimensional as the bread itself wasn't very flavourful. I thought it would be closer to a moon cake concept where bread is a bit sweet and counterbalanced the salty egg yolk but instead the egg yolk overpowered everything else. The walnut bread was also very weird as the coffee had a weird after taste. \\n\\nFor the price I would def not come back. END\n",
      "\n",
      "\n",
      " 1: Great fresh seafood spot located in the Scottsdale Quarter. Enjoying a nice dinner out and felt like seafood so we decided on this restaurant. We were greeted and taken to our seat right away. The restaurant sets a more professional, upscale type atmosphere.\\n\\nWe were greeted by our server and he took our drink order. We started with the seafood platter which had shrimp, oysters, lobster tails and a crab mix. Love seafood? Get this for sure! The oysters were quite large and not amongst the freshest I've ever had but they were still good. \\n\\nFor dinner we enjoyed the chicken and the scallops with a side if crab fried rice. Crab fries rice was full of flavor and really good! Scallops had a citrus flavor added which made it even more tasty. \\n\\nService was above par as well. Our server was attentive and friendly. \\n\\nI'd go back if I wanted a nice night out and craved some seafood END\n",
      "\n",
      "\n",
      " 1: Easily my favorite place to eat in Madison.  Great Lao-Thai food.  Curries are fantastic and make sure to start with a soup.  They're always good.  Tip: place is tiny and you will wait.  Either get carry out or head across the street to the Weary Traveler to grab a beer while you wait for your table. END\n",
      "\n",
      "\n",
      " 1: When it comes to presentation this place executes that one thing completely. The food tastes as good as it looks, but if you're on a budget this place my be out of reach depending on what's in your pocket. Even their establishment looks amazing. I love this place and love their \\ END\n",
      "\n",
      "\n",
      " 1: I travel lots for business and this is one of the funniest places.  Heather provided great service and NCAA B-BALL on the screens END\n",
      "\n",
      "\n",
      " 1: I can't tell you how angry I am right now.  I went to Huntersville Ford yesterday to get an oil change on my commuter car.  Paid my $41.00 and was given back my car just over an hour later.\\nToday I had to go to work (40 mile round trip commute).  As I was getting off of I-85, I noticed the smell of burning oil.  I thought maybe the tech just spilled a little on the exhaust manifold since it's right there, and maybe it's burning off.  I didn't hit a stop light until I was almost at my office.  When I stopped and was waiting for the light, my cabin started to fill with smoke, and I had smoke pouring out from under the hood and the wheel wells as well.\\nI pulled over into the parking area of a gas station (because they have accessible fire extinguishers) and parked.  I popped the hood only to find THE TECHNICIAN DID NOT PUT THE OIL FILLER CAP BACK ON!!!  Now my engine is covered in potentially flammable oil, and of course Huntersville Ford is closed today!!!!\\nI have my car sitting outside in the parking lot with the hood open, just in case it decides to ignite, because my engine is pretty hot after a 20 mile drive.\\nI called and left a voicemail, and now I have to find a way to degrease my engine at work, just so I can drive it home in a less-flammable state.  I WILL HOLD HUNTERSVILLE FORD RESPONSIBLE FOR ANY COMPONENTS THAT FAIL AS OF A RESULT OF THIS.  Most electronics don't like being slathered in motor oil.  In fact, I'm pretty sure they aren't designed for that.\\n\\nAnd NO, I did not have other work done... Just the oil change.  You had 1 job.... oil change.  No transmission service, no brake service, no rotation, no cooling flush... just an oil change.  I hope he remembered to tighten the filter, but I am skeptical at this point.\\n\\nI can assure you, I will NOT be taking my car back to that dealership, even though it is right around the corner from my house.  MAKE IT RIGHT, HUNTERSVILLE FORD. END\n",
      "\n",
      "\n",
      " 1: Worst pedicure ever. First, waited over a half hour even though we had appointments. Then, the girl rushed throughout, made rude comments and talked and laughed with her other coworkers in a different language. Pedicure is chipped not even one week later. Will NEVER go back here. Worse experience. END\n",
      "\n",
      "\n",
      " 1: Bobby Flay's restaurant at Caesar's Palace.  Tasty but with mixed reviews.  The first time I went there, everything I had was delicious.  The chicken and pork tenderloin were outstanding.  This time, I ordered the following - duck crepe (SOOOO good!), shrimp tamale (very flavorful and fresh), salmon (mediocre, at best... and our waiter even told us not to order it... but my friend didn't listen), and halibut (tender, flaky, not fishy at all... and so flavorful!).  The halibut and appetizers were my favorites and I would definitely go and order those again.  We also ordered 3 desserts, which were totally worth it!  Sweet potato pudding (and I don't even like sweet potatoes!), Banana pie tart thingy, and spicy peanut chocolate cake.  mmmmmm would definitely go there for dessert and the appetizers!!! \\n\\nYou need a reservation for this place. END\n",
      "\n",
      "\n",
      " 1: Cleats is the best! Our daughter pitches and we have exchanged 2 sets of Mizuno metal cleats. Both were coming apart at the seams and they happily replaced them each time.  Great friendly and knowledgeable staff!  We buys all our softball gear from Cleats! END\n",
      "\n",
      "\n",
      " 1: When I'm Arizona...we Reathrey Sekong! \\n\\nFood is good and authentic! Would love if there was a closer location to Gilbert! END\n",
      "\n",
      "\n",
      " 1: Decent food. Fishermen lobster or even congee queen can do better than this. Nice decor but that is it. I don't expect too much service from a Chinese restaurant but I gotta say that the hostess and waitress weren't welcoming at all. Won't recommend this place to anyone. END\n",
      "\n",
      "\n",
      " 1: I was staying at the Hilton next door and got access to the YMCA.  Nice!  One of the days, I woke up with a sore throat.  Headed to the gym anyways, but started coughing horribly just as I checked in.  Had to walk out to clear my throat then went back in and hopped on an elliptical machine.  The lady at the front desk was so nice!  She brought me a cup of water because she noticed that I was coughing so much earlier.  \\n\\nAmazing service!  Now I wish I belonged to a YMCA back home.  Going to have to look into it for sure. END\n",
      "\n",
      "\n",
      " 1: More than just  Pizza. This location is small but cozy.  Has two large screen TV's for your entertainment pleasure.\\n\\nThe pizza is of better quality than most (a definate step up from Pizza Hut and Domino').  The thin crust is we like here.  The crust has a crunch to it, which I prefer.  Their menu has a \\ END\n",
      "\n",
      "\n",
      " 1: GREAT SERVICE!! The food was amazing and very reasonably priced! Oh and the deserts are to die for!! END\n",
      "\n",
      "\n",
      " 1: We drive by Fruits and Roots almost daily and we finally decided to give it a try. Unfortunately the only good thing I have to say about the place is it has nice decor. We walked in and was greeted by one of the girls and as we were looking at the menu she asked if it was our first time and we told her yes. We assumed she would explain the menu but nope! My daughter's go to is a strawberry banana smoothie and the menu had a few smoothies that had strawberry and banana mixed with other stuff and I asked if they would be able to make one with just strawberry and banana and she had said they couldn't because it was already pre made. So we continued to look at the menu and a different girl came and said she would be able to make the smoothie so thank you to her. My husband and I knew we wanted to get an acai bowl so as\\nwe looked at the different options we found one we wanted to try but on the menu it had a pitaya and we asked if we could get it with acai instead but again was told that it was already pre made. So we went with one that was made with acai but it had blueberries which we don't like and we weee hesistant to ask if they would be able to leave them out since everything seemed to be pre made but my husband did ask and luckily she said they could leave it out. Whew! It wasn't a long wait to get our order. My daughter drank her smoothie saying it was okay and our acai bowl was okay as well. To\\nme the best part was the granola and that's about it. At least we can say we finally tried this place and we definitely won't be back. We will be sticking to our usual spot Bowlology! END\n",
      "\n",
      "\n",
      " 1: Love the staff here! Becca, Chrissy, Angel and Arianna are so friendly and helpful! Super clean and professional place. Highly recommend coming here! END\n",
      "\n",
      "\n",
      " 1: I had an oil change at the 15515 N Scottsdale Road location.  When the car was delivered to me, there were two engine warning lights on that had not been on when I drove the car in.  The technician said that the lights were on when he got in the car, which was not true.  I took the car to the dealer who said that a sensor light had been left unplugged when they removed the air filter.  I should have read the many bad Yelp reviews prior to going to this facility. END\n",
      "\n",
      "\n",
      " 1: The absolute WORST apartment complex I have ever lived in. Moved here from out of state. Hoped to find a decently priced apartment until I got myself settled in. Wow this place has been trash. Landlord is only here half the time, so those of you with a full time job, forget ever trying to communicate with her! Doesn't answer the phone or call back. Place can't even get with the 21st century and splurge on email communication. Rent past due? Noise complaint on an animal? Anything, Don't worry, you'll be singled out with a cheap ass piece of paper taped to your door for the whole complex to see. As far as CAM Properties as a whole, also trash! They also refuse to give callbacks. After hours \\ END\n",
      "\n",
      "\n",
      " 1: This was my first time at this place and the shop was super clean. The staff was nice and helpful. Rose took care of me like a regular customer. If I lived in Vegas, I would come here all the time. END\n",
      "\n",
      "\n",
      " 1: I ordered a pizza at 4:49. Got an email that said my pizza would be delivered at 5:18 to5:28. 5:38 still no pizza. Called the store. They said it was out for delivery. I said I knew that it was suppose to be delivered 10 minutes ago. 5:48. Still no pizza. Called the store back. Again, I was told it was out for delivery. 5:48 called the store again. When I was on the phone the pizza came. When it arrived it was COLD. END\n",
      "\n",
      "\n",
      " 1: Paid a visit here after the JT concert on Friday night - best decision all weekend. Every restaurant was packed before the show, so we set on wandering MGM afterwards for a good after show nosh and were definitely pleased at Crush. Luckily we were seated right away (not many people ordering dinner at 11pm I suppose!) and our incredibly nice server saw to our drink order ASAP.\\n\\nThe ambience is tres chic. Dark, romantic, and removed from casino craziness in the back where we sat cuddled up in a booth. The only negative about our seats was the pretty chilly draft, but perhaps we were just too sober ;) The Syrah was absolutely delicious, and at $11 for a glass, a Vegas bargain. We began with the Caesar salad which came out within minutes of ordering and was very tasty, though I myself found the sweetness to be a little strange. Overall it was a crunchy, refreshing delight. We then shared a margherita flatbread and the gnocchi. Whoa....both dishes definitely exceeded expectations. They were small plates, but really perfect for sharing. The speed at which the salad was delivered was slightly misleading, as the other dishes took quite a while to come out. However, they were clearly exceptionally fresh when they arrived.\\n\\nOur waiter was pretty busy but as attentive as he could be, and very professional without being overbearing. The end-to-end experience was more than I expected at such a large venue, and thus deserves a high recommendation. This was a perfect way to wind down from an energizing show without losing the dazzle of a getaway weekend with your honey. END\n",
      "\n",
      "\n",
      " 1: I went into this store yesterday and it was horrible!!! It was sooooo dirty. I'm talking there was trash everywhere!!!  Not only that but it smelled like trash! It was 5 o'clock on a Friday afternoon so I completely understand it being a little messy but the store just looked horrible!!! Not to mention the were out of pretty much everything on the store. I honestly will probably start going down the road to the next Smith's. END\n",
      "\n",
      "\n",
      " 1: I love Bouchon. It's still my favorite place to go hands down. They are extremly fresh and have excellent service. I ate at the bouchon in Beverly hills and didn't encounter a single difference in food quality in Vegas. The food has always been delicious and this one time I went we ordered practically everytihng. From the bakery basket in which the waiter chooses for us a selection of baked goods to the mussels to the hash. \\n\\nEverything was delicious. And you can't beat the price around 20-30 a person with small apps. Or aroudn 40-50 if your drinkin a little. Very reasonable for what your getting.\\n\\nTake a peek at my photos.\\n\\nThanks Thomas Keller for a great meal again! END\n",
      "\n",
      "\n",
      " 1: So pretty inside and well organized! I called for an appointment before my wedding for me and 3 others and was told they wouldn't be able to help me on that day because they were going to be too busy. :( So we went somewhere else. I had a gift card for here so I went here for my fill, and they did a great job, but a bit overpriced! I brought my daughters in so all 3 of us could get pedicures and had a great experience! Overall a great place! END\n",
      "\n",
      "\n",
      " 1: Furry watching 2011 concluded at Tonic....it was a fun time had by all....furries and humans alike.\\n\\nI was the same as Mel U.  I had been past this place a couple times and never thought to go in.  I think it may be because it's on the \\ END\n",
      "\n",
      "\n",
      " 1: Pros: Fun atmosphere, great for people watching, mechanical bull is unique in my experience\\n\\nCons: I had the chicken tenders and fries and while the tenders were alright, the fries were pretty terrible. I've had fries that didn't taste good before, but these were the first fries I've experienced that actually tasted bad. After dinner, I felt sick and had to drink lots of water to get the taste out of my mouth. Would not go again! END\n",
      "\n",
      "\n",
      " 1: Nice decor, service was as good as it was asked for. Food came out very quickly after we ordered it, which makes me wonder whether they have prepared contents that they assemble by order??? If so, it explains the overcooked noodles in the Padthai. I didn't like the fact that they don't offer Padthai with flat noodles, but only with thin noodles... Took away from the whole Padthai eating experience that comes with the flat noodles and the flavors it generates. It was also extremely sweet marinated and had no particularly Thai spice flavors. The meat to noodle portion was pretty good though. Again, did not get Padthai as Padthai should look and taste. So far Royal Jasmine in Litchfield is my favorite Thai in West valley. END\n",
      "\n",
      "\n",
      " 1: Prices are reasonable...fried rice, Thai flat noodle with Duck, and the yellow curry is delicious!  However, they burnt my fried calamari :( END\n",
      "\n",
      "\n",
      " 1: Their Homemade Lasagna was Great!\\nYou've gotta try Rizzo's Spaghetti House.\\n\\nTry out their other restaurant, located off Cherry Road in Rock Hill. END\n",
      "\n",
      "\n",
      " 1: By far my favorite Italian restaurant in Vegas. Pasta Luigi is the fastest they have! Also try the stuffed artichoke. It is one of the best of ever had END\n",
      "\n",
      "\n",
      " 1: What can I say?  The bread is made daily and the portions are reasonable. \\nThey have a wide selections of desserts,  Asian drinks\\/candy\\/food,   and their sandwiches is made when you order. END\n",
      "\n",
      "\n",
      " 1: Had a wonderful meal here. Rib steak for two with herb butter and mushroom onion sauce was excellent, cooked to medium rare spot on, lightly coated with Montreal steak spice. Tuna steak lightly seared just right went well with lentils and mint. I am withholding a star because even though the wine list was interesting and extensive, only three reds were available by the glass, and the pour was nowhere near generous. END\n",
      "\n",
      "\n",
      " 1: Huge breakfasts served all day. \\ END\n",
      "\n",
      "\n",
      " 1: I love bookstores, and I love to spend some time browsing and flipping through the books and having a generally pleasant time. \\n\\nI would have enjoyed it more, though, if this store were organized better. It was nothing but an exercise in frustration going through the fiction section. I am not sure if it was a matter of the store being in transition, or what was going on, but the \\ END\n",
      "\n",
      "\n",
      " 1: I passed Five Guys, In-N-Out, Carl's Jr, and Sonic to get to The Habit.  It won't happen again. I don't know where all these five stars are coming... but their burger tasted like an unseasoned Sonic burger... and more overpriced than Five Guys. I WILL SAY THAT THE CUSTOMER SERVICE WAS GREAT! END\n",
      "\n",
      "\n",
      " 1: Some cretin at a store swiped my credit card information while ringing me up and then charged 3,000 bucks worth of stuff on my Keybank debit card.  I was in Florida at the time on a long term assignment, hundreds of miles from a Keybank.  I discovered the fraudulent charges when I checked my balance just before leaving on a road trip.  I called the customer service number and within a few hours all my money was back in my account.  They canceled my number and sent me an all new card by FedEx which arrived the next day at my destination. They made the whole recovery process so easy.  Miss this bank, big time. END\n",
      "\n",
      "\n",
      " 1: Fast and friendly, always! They make sure your order is correct even when they are in a hurry. Always a great meal. END\n",
      "\n",
      "\n",
      " 1: I tried chicken Shish kebab . Chicken is really juicy and really tasty . The atmosphere there is very Turkish style , love it . Definitely 5 stars .  Good place ever for coffee break , delicious deserts. END\n",
      "\n",
      "\n",
      " 1: I love the atmosphere ! Perfect for families ! Very welcoming to children , my sons a bit active && loves to touch the decorations but they're so patient && understanding . The food is filling , tasteful && excellent portions . Nd their hours are accommodating to all they're open late . END\n",
      "\n",
      "\n",
      " 1: I just want to note that I am all about eating quality sushi. I have been to many sushi places  and I know when the sushi is worth the money. Unfortunately, this is not one of them.  The presentation of the sushi is clean and organized but the quality of taste was not there. \\n\\nWe ordered the Godzilla and  10 orders of sake nigiri and 10 order of shrimp nigiri. I was disappointed. It was not fresh enough for my taste and not good enough for the money I spent there. The fresh sushi was flavorless and the rolls did not have a correct balance of flavor. \\n\\nIf you guys are big sushi fans and know the difference between great sushi, good sushi and poor sushi, then this is place in not for you. But if you do like spending $5 on one piece of Nigiri\\/sashimi (not even a set of two) cause you won big in the casino or something, then be my guest. END\n",
      "\n",
      "\n",
      " 1: Amazing staff and food everytime! Always so welcoming and the food is constantly awesome. END\n",
      "\n",
      "\n",
      " 1: They did a great job on my two Golden boys. They can be a handful at times but they came out looking great and what I considered a great price as well!  We will be coming back for sure in the future. END\n",
      "\n",
      "\n",
      " 1: The whole experience is awesome. They start you off with silly anouncements from the gate. In other words, the staff is friendly, spontaneous, and well, AWESOME. It's a small plane, though, so whether you're travelling a short (ie from San Francisco to Vegas) or longer distance (SF to New York), then Virgin America is the way to go.  \\n\\nI guess the airline is famous for its mood lighting which is relaxing. They have a really cool in-flight entertainment system - touch-screen, on-demand movies, live satellite TV, radio, etc. So if you're flying, better bring your own headset coz they sell theirs for $2. To sum it up, the experience was so darn good that I wish I had more time on the plane. END\n",
      "\n",
      "\n",
      " 1: The reviews for this place on Facebook are great so despite not having a presence on Yelp, I made an appointment.  I won't deny my dog needed some serious grooming.  We'd brushed him out the night before but he could still use more combing, his hind legs\\/butt trimmed up and he had some matts behind his ear.  There are 4 doors at this place, I believe. If you just pull in to the drive way it's not terribly clear until you get closer to the doors and see signs directing you which to go into.  The lobby is cute. I was quickly greeted and I was given a form to complete. The woman doing the grooming introduced herself and I asked that his hind legs and butt get trimmed up and asked that she cut out any matts.  She said it would probably take about 3 hours.  I received a text about 3 1\\/2 hours later stating the price would be $80 and if I returned within 8 weeks it would be $65.  I went to pick him up and I was shocked that they shaved him.  His hair was NOT that bad.  Not to mention the hair that was left was not soft as it has been after visiting other groomers.  I didn't say anything because I was so shocked in the moment so I took him home.  We saw our dog paying particular attention to his private area...more so than he usually does.  My husband looked closer and found that he had been nicked a couple of times.  We found a large cut behind one of his ears.  We won't be returning. END\n",
      "\n",
      "\n",
      " 1: Amazing food and perfect location for any Luke AFB military personnel looking for some decent Asian cuisine. I'm going on my third lunch this week! The Chicken Teriyaki and ginger salad dressing is out of this world! END\n",
      "\n",
      "\n",
      " 1: 3 stars for food, but the service was awful. Appetizers were ordered and all the food was brought out at once after wondering where the food was. Saw multiple tables served while we sat around waiting for the check. Won't be back! END\n",
      "\n",
      "\n",
      " 1: I'm traveling from out of town. It's amazing! Best massage I've ever had! Most definitely will be my new go-to place no need to look any further. END\n"
     ]
    }
   ],
   "source": [
    "index = 1\n",
    "for review in sentiments['review']:\n",
    "    print (f'\\n\\n {index}: {review} END')"
   ]
  },
  {
   "cell_type": "code",
   "execution_count": 71,
   "metadata": {
    "ExecuteTime": {
     "end_time": "2020-10-08T03:38:43.816505Z",
     "start_time": "2020-10-08T03:38:43.801237Z"
    }
   },
   "outputs": [
    {
     "data": {
      "text/html": [
       "<div>\n",
       "<style scoped>\n",
       "    .dataframe tbody tr th:only-of-type {\n",
       "        vertical-align: middle;\n",
       "    }\n",
       "\n",
       "    .dataframe tbody tr th {\n",
       "        vertical-align: top;\n",
       "    }\n",
       "\n",
       "    .dataframe thead th {\n",
       "        text-align: right;\n",
       "    }\n",
       "</style>\n",
       "<table border=\"1\" class=\"dataframe\">\n",
       "  <thead>\n",
       "    <tr style=\"text-align: right;\">\n",
       "      <th></th>\n",
       "      <th>label</th>\n",
       "      <th>score</th>\n",
       "      <th>review</th>\n",
       "    </tr>\n",
       "  </thead>\n",
       "  <tbody>\n",
       "    <tr>\n",
       "      <th>0</th>\n",
       "      <td>NEGATIVE</td>\n",
       "      <td>0.943437</td>\n",
       "      <td>As someone who has worked with many museums, I...</td>\n",
       "    </tr>\n",
       "    <tr>\n",
       "      <th>1</th>\n",
       "      <td>NEGATIVE</td>\n",
       "      <td>0.999730</td>\n",
       "      <td>I am actually horrified this place is still in...</td>\n",
       "    </tr>\n",
       "    <tr>\n",
       "      <th>2</th>\n",
       "      <td>POSITIVE</td>\n",
       "      <td>0.999817</td>\n",
       "      <td>I love Deagan's. I do. I really do. The atmosp...</td>\n",
       "    </tr>\n",
       "    <tr>\n",
       "      <th>3</th>\n",
       "      <td>NEGATIVE</td>\n",
       "      <td>0.999594</td>\n",
       "      <td>Dismal, lukewarm, defrosted-tasting \\</td>\n",
       "    </tr>\n",
       "    <tr>\n",
       "      <th>4</th>\n",
       "      <td>POSITIVE</td>\n",
       "      <td>0.964266</td>\n",
       "      <td>Oh happy day, finally have a Canes near my cas...</td>\n",
       "    </tr>\n",
       "    <tr>\n",
       "      <th>...</th>\n",
       "      <td>...</td>\n",
       "      <td>...</td>\n",
       "      <td>...</td>\n",
       "    </tr>\n",
       "    <tr>\n",
       "      <th>95</th>\n",
       "      <td>POSITIVE</td>\n",
       "      <td>0.999744</td>\n",
       "      <td>The whole experience is awesome. They start yo...</td>\n",
       "    </tr>\n",
       "    <tr>\n",
       "      <th>96</th>\n",
       "      <td>POSITIVE</td>\n",
       "      <td>0.731915</td>\n",
       "      <td>The reviews for this place on Facebook are gre...</td>\n",
       "    </tr>\n",
       "    <tr>\n",
       "      <th>97</th>\n",
       "      <td>POSITIVE</td>\n",
       "      <td>0.999792</td>\n",
       "      <td>Amazing food and perfect location for any Luke...</td>\n",
       "    </tr>\n",
       "    <tr>\n",
       "      <th>98</th>\n",
       "      <td>NEGATIVE</td>\n",
       "      <td>0.996666</td>\n",
       "      <td>3 stars for food, but the service was awful. A...</td>\n",
       "    </tr>\n",
       "    <tr>\n",
       "      <th>99</th>\n",
       "      <td>POSITIVE</td>\n",
       "      <td>0.999847</td>\n",
       "      <td>I'm traveling from out of town. It's amazing! ...</td>\n",
       "    </tr>\n",
       "  </tbody>\n",
       "</table>\n",
       "<p>100 rows × 3 columns</p>\n",
       "</div>"
      ],
      "text/plain": [
       "       label     score                                             review\n",
       "0   NEGATIVE  0.943437  As someone who has worked with many museums, I...\n",
       "1   NEGATIVE  0.999730  I am actually horrified this place is still in...\n",
       "2   POSITIVE  0.999817  I love Deagan's. I do. I really do. The atmosp...\n",
       "3   NEGATIVE  0.999594              Dismal, lukewarm, defrosted-tasting \\\n",
       "4   POSITIVE  0.964266  Oh happy day, finally have a Canes near my cas...\n",
       "..       ...       ...                                                ...\n",
       "95  POSITIVE  0.999744  The whole experience is awesome. They start yo...\n",
       "96  POSITIVE  0.731915  The reviews for this place on Facebook are gre...\n",
       "97  POSITIVE  0.999792  Amazing food and perfect location for any Luke...\n",
       "98  NEGATIVE  0.996666  3 stars for food, but the service was awful. A...\n",
       "99  POSITIVE  0.999847  I'm traveling from out of town. It's amazing! ...\n",
       "\n",
       "[100 rows x 3 columns]"
      ]
     },
     "execution_count": 71,
     "metadata": {},
     "output_type": "execute_result"
    }
   ],
   "source": [
    "sentiments"
   ]
  },
  {
   "cell_type": "markdown",
   "metadata": {},
   "source": [
    "### ¿Hablas español?"
   ]
  },
  {
   "cell_type": "code",
   "execution_count": 8,
   "metadata": {
    "ExecuteTime": {
     "end_time": "2020-10-08T01:41:48.735114Z",
     "start_time": "2020-10-08T01:41:42.894467Z"
    }
   },
   "outputs": [
    {
     "name": "stdout",
     "output_type": "stream",
     "text": [
      "[{'label': '5 stars', 'score': 0.9345182776451111}]\n"
     ]
    }
   ],
   "source": [
    "from transformers import AutoTokenizer, AutoModelForSequenceClassification\n",
    "model_name = \"nlptown/bert-base-multilingual-uncased-sentiment\"\n",
    "model = AutoModelForSequenceClassification.from_pretrained(model_name)\n",
    "tokenizer = AutoTokenizer.from_pretrained(model_name)\n",
    "sentimental = pipeline('sentiment-analysis', model=model, tokenizer=tokenizer)\n",
    "\n",
    "result = sentimental(u'¡Qué maravillosa experiencia!')\n",
    "print(result)"
   ]
  },
  {
   "cell_type": "markdown",
   "metadata": {},
   "source": [
    "## Understanding the inner details.\n",
    "\n",
    "Let us see what the code in the examples above did for us. This below is taken from the Hugging face tutorial.\n",
    "\n",
    "The ``AutoTokenizer`` will automatically download the tokenizer associated with a model we pick. The ``AutoModelForSequenceClassifier`` will download the relevant model by name."
   ]
  },
  {
   "cell_type": "code",
   "execution_count": 9,
   "metadata": {
    "ExecuteTime": {
     "end_time": "2020-10-08T01:45:20.861604Z",
     "start_time": "2020-10-08T01:45:16.818126Z"
    }
   },
   "outputs": [],
   "source": [
    "from transformers import AutoTokenizer, AutoModelForSequenceClassification\n",
    "model_name = \"distilbert-base-uncased-finetuned-sst-2-english\"\n",
    "pt_model = AutoModelForSequenceClassification.from_pretrained(model_name)\n",
    "tokenizer = AutoTokenizer.from_pretrained(model_name)"
   ]
  },
  {
   "cell_type": "markdown",
   "metadata": {},
   "source": [
    "Now that we have the model, and the tokenizer, we need to create a pipeline which will first tokenize the text, and then feed it into the model. But before we do it, let us inspect the tokenization part:\n",
    "\n",
    "\n",
    "\n"
   ]
  },
  {
   "cell_type": "code",
   "execution_count": 25,
   "metadata": {
    "ExecuteTime": {
     "end_time": "2020-10-08T01:57:01.003007Z",
     "start_time": "2020-10-08T01:57:00.997466Z"
    }
   },
   "outputs": [
    {
     "name": "stderr",
     "output_type": "stream",
     "text": [
      "Asking to truncate to max_length but no maximum length is provided and the model has no predefined maximum length. Default to no truncation.\n"
     ]
    }
   ],
   "source": [
    "tokens_tensor = tokenizer(\n",
    "    [\"Some of us love the deep learning workshop at SupportVectors\", \"Horrible food!\"],\n",
    "    padding=True,    \n",
    "    truncation=True,\n",
    "    return_tensors=\"pt\" )\n"
   ]
  },
  {
   "cell_type": "markdown",
   "metadata": {},
   "source": [
    "Let us now feed this into the model to get a result."
   ]
  },
  {
   "cell_type": "code",
   "execution_count": 31,
   "metadata": {
    "ExecuteTime": {
     "end_time": "2020-10-08T02:09:49.274395Z",
     "start_time": "2020-10-08T02:09:49.223323Z"
    }
   },
   "outputs": [],
   "source": [
    "result = model (**tokens_tensor, output_hidden_states=True, output_attentions=True)"
   ]
  },
  {
   "cell_type": "code",
   "execution_count": 32,
   "metadata": {
    "ExecuteTime": {
     "end_time": "2020-10-08T02:09:51.882184Z",
     "start_time": "2020-10-08T02:09:51.877196Z"
    }
   },
   "outputs": [
    {
     "data": {
      "text/plain": [
       "tensor([[0.6308, 0.2084, 0.0993, 0.0318, 0.0297],\n",
       "        [0.0702, 0.0877, 0.2197, 0.2991, 0.3233]], grad_fn=<SoftmaxBackward>)"
      ]
     },
     "execution_count": 32,
     "metadata": {},
     "output_type": "execute_result"
    }
   ],
   "source": [
    "# Now, we just got the energies that we need to convert to probabilities.\n",
    "import torch.nn.functional as F\n",
    "pt_predictions = F.softmax(result[0], dim=-1)\n",
    "pt_predictions"
   ]
  },
  {
   "cell_type": "markdown",
   "metadata": {},
   "source": [
    "### Hidden states and attentions\n",
    "\n",
    "Of-course, we can also inspect the model itself and see its parameter values. Let us do so:"
   ]
  },
  {
   "cell_type": "code",
   "execution_count": 35,
   "metadata": {
    "ExecuteTime": {
     "end_time": "2020-10-08T02:10:47.361374Z",
     "start_time": "2020-10-08T02:10:47.357126Z"
    }
   },
   "outputs": [],
   "source": [
    "hidden_states, attentions = result[-2:]"
   ]
  },
  {
   "cell_type": "markdown",
   "metadata": {},
   "source": [
    "# Question Answering\n",
    "\n",
    "Let us see how we can make a transformer answer questions about a piece of text we take from our course portal!\n",
    "\n",
    "### Text\n",
    "\n",
    "In this workshop, as an optional activity, there is the reading of some research papers from Arxiv. While it may appear intimidating, these papers are considered important readings if you want to be considered an expert. All papers broadly follow the IMRC-format (Introduction, Method, Results, Conclusion). The easiest way to start reading a paper is to first read the abstract, skim over the introduction, and short-circuit straight to the conclusions. Once you have gotten a general sense of the lay of the land, now carefully read the introduction -- preferably with a highlighter and pencil in hand. When you reach the method section, understand as much as you can on the first careful reading. It may take a few study iterations before it becomes fully comprehensible: so do not be daunted if at first study it feels intimidating. In due course of time, it becomes familiar and easy. If the paper really interests you deeply, see if you reproduce the results of the paper independently, or check out the python/PyTorch implementations of the ideas. Research is an open community, and implementations of an idea get shared very quickly in the open-source domain.\n",
    "\n",
    "### Question\n",
    "\n",
    "What is the easiest way to reading a paper?"
   ]
  },
  {
   "cell_type": "code",
   "execution_count": 40,
   "metadata": {
    "ExecuteTime": {
     "end_time": "2020-10-08T02:23:06.917894Z",
     "start_time": "2020-10-08T02:23:06.913156Z"
    },
    "scrolled": false
   },
   "outputs": [],
   "source": [
    "# Let us start with the data\n",
    "\n",
    "text = r\"In this workshop, as an optional activity, there is the reading of some research papers from Arxiv. While it may appear intimidating, these papers are considered important readings if you want to be considered an expert. All papers broadly follow the IMRC-format (Introduction, Method, Results, Conclusion). The easiest way to start reading a paper is to first read the abstract, skim over the introduction, and short-circuit straight to the conclusions. Once you have gotten a general sense of the lay of the land, now carefully read the introduction -- preferably with a highlighter and pencil in hand. When you reach the method section, understand as much as you can on the first careful reading. It may take a few study iterations before it becomes fully comprehensible: so do not be daunted if at first study it feels intimidating. In due course of time, it becomes familiar and easy. If the paper really interests you deeply, see if you reproduce the results of the paper independently, or check out the python/PyTorch implementations of the ideas. Research is an open community, and implementations of an idea get shared very quickly in the open-source domain.\"\n",
    "\n",
    "question_1 = r'What is the easiest way to reading a paper?'\n",
    "question_2 = r'What happens in due course of time?'"
   ]
  },
  {
   "cell_type": "code",
   "execution_count": 41,
   "metadata": {
    "ExecuteTime": {
     "end_time": "2020-10-08T02:23:13.646726Z",
     "start_time": "2020-10-08T02:23:10.231493Z"
    }
   },
   "outputs": [
    {
     "name": "stderr",
     "output_type": "stream",
     "text": [
      "/home/asif/anaconda3/lib/python3.8/site-packages/transformers/tokenization_utils_base.py:1319: FutureWarning: The `max_len` attribute has been deprecated and will be removed in a future version, use `model_max_length` instead.\n",
      "  warnings.warn(\n"
     ]
    },
    {
     "data": {
      "text/plain": [
       "{'score': 0.04903706908226013,\n",
       " 'start': 355,\n",
       " 'end': 407,\n",
       " 'answer': 'first read the abstract, skim over the introduction,'}"
      ]
     },
     "execution_count": 41,
     "metadata": {},
     "output_type": "execute_result"
    }
   ],
   "source": [
    "qa = pipeline(\"question-answering\")\n",
    "result = qa(question=question_1, context=text)\n",
    "result"
   ]
  },
  {
   "cell_type": "code",
   "execution_count": 42,
   "metadata": {
    "ExecuteTime": {
     "end_time": "2020-10-08T02:23:33.935215Z",
     "start_time": "2020-10-08T02:23:33.784261Z"
    }
   },
   "outputs": [
    {
     "name": "stderr",
     "output_type": "stream",
     "text": [
      "/home/asif/anaconda3/lib/python3.8/site-packages/transformers/tokenization_utils_base.py:1319: FutureWarning: The `max_len` attribute has been deprecated and will be removed in a future version, use `model_max_length` instead.\n",
      "  warnings.warn(\n"
     ]
    },
    {
     "data": {
      "text/plain": [
       "{'score': 0.8247432112693787,\n",
       " 'start': 860,\n",
       " 'end': 889,\n",
       " 'answer': 'it becomes familiar and easy.'}"
      ]
     },
     "execution_count": 42,
     "metadata": {},
     "output_type": "execute_result"
    }
   ],
   "source": [
    "qa(question=question_2, context=text)"
   ]
  },
  {
   "cell_type": "markdown",
   "metadata": {},
   "source": [
    "# Fill in the blanks: transformers to the rescue!\n",
    "\n",
    "Once can train a transformer to create a masked-model, which can fill in the blanks for you. Consider the following context:\n",
    "\n",
    "Some of us ??? the deep learning workshop training at SupportVectors very much!\n",
    "\n"
   ]
  },
  {
   "cell_type": "code",
   "execution_count": 49,
   "metadata": {
    "ExecuteTime": {
     "end_time": "2020-10-08T02:33:24.184313Z",
     "start_time": "2020-10-08T02:33:19.141287Z"
    }
   },
   "outputs": [
    {
     "name": "stderr",
     "output_type": "stream",
     "text": [
      "Some weights of RobertaForMaskedLM were not initialized from the model checkpoint at distilroberta-base and are newly initialized: ['lm_head.decoder.bias']\n",
      "You should probably TRAIN this model on a down-stream task to be able to use it for predictions and inference.\n"
     ]
    },
    {
     "data": {
      "text/plain": [
       "[{'sequence': '<s>Some of us enjoy the deep learning workshop training at SupportVectors very much!</s>',\n",
       "  'score': 0.4049758315086365,\n",
       "  'token': 2254,\n",
       "  'token_str': 'Ġenjoy'},\n",
       " {'sequence': '<s>Some of us appreciate the deep learning workshop training at SupportVectors very much!</s>',\n",
       "  'score': 0.3120434284210205,\n",
       "  'token': 5478,\n",
       "  'token_str': 'Ġappreciate'},\n",
       " {'sequence': '<s>Some of us enjoyed the deep learning workshop training at SupportVectors very much!</s>',\n",
       "  'score': 0.17192326486110687,\n",
       "  'token': 3776,\n",
       "  'token_str': 'Ġenjoyed'},\n",
       " {'sequence': '<s>Some of us love the deep learning workshop training at SupportVectors very much!</s>',\n",
       "  'score': 0.05667373165488243,\n",
       "  'token': 657,\n",
       "  'token_str': 'Ġlove'},\n",
       " {'sequence': '<s>Some of us like the deep learning workshop training at SupportVectors very much!</s>',\n",
       "  'score': 0.011890681460499763,\n",
       "  'token': 101,\n",
       "  'token_str': 'Ġlike'}]"
      ]
     },
     "execution_count": 49,
     "metadata": {},
     "output_type": "execute_result"
    }
   ],
   "source": [
    "# Let's do a fill-in-the-blank exercise!\n",
    "completer = pipeline(\"fill-mask\")\n",
    "fill_in_the_blank = f'Some of us {completer.tokenizer.mask_token} the deep learning workshop training at SupportVectors very much!'\n",
    "completer(fill_in_the_blank)"
   ]
  },
  {
   "cell_type": "markdown",
   "metadata": {},
   "source": [
    "# Text Generation\n",
    "\n",
    "Can the transformers complete your sentences? Let us give it a shot with the text:\n",
    "\n",
    "The easiest way to start reading a paper is to first read the abstract, skim over the introduction, and short-circuit straight to the conclusions. \n"
   ]
  },
  {
   "cell_type": "code",
   "execution_count": 60,
   "metadata": {
    "ExecuteTime": {
     "end_time": "2020-10-08T02:45:28.655526Z",
     "start_time": "2020-10-08T02:45:22.801503Z"
    }
   },
   "outputs": [
    {
     "name": "stderr",
     "output_type": "stream",
     "text": [
      "Setting `pad_token_id` to 50256 (first `eos_token_id`) to generate sequence\n"
     ]
    },
    {
     "data": {
      "text/plain": [
       "[{'generated_text': 'The easiest way to start reading a paper is to first read the abstract, skim over the introduction, and short-circuit straight to the conclusions.\\n\\nThe paper is a good starting point for any student who wants to learn about the history of the world. It is also a good starting point'}]"
      ]
     },
     "execution_count": 60,
     "metadata": {},
     "output_type": "execute_result"
    }
   ],
   "source": [
    "text_generator = pipeline(\"text-generation\")\n",
    "max_length = 60\n",
    "\n",
    "text =r'The easiest way to start reading a paper is to first read the abstract, skim over the introduction, and short-circuit straight to the conclusions.'\n",
    "\n",
    "text_generator(text, max_length=max_length, do_sample=False)"
   ]
  },
  {
   "cell_type": "markdown",
   "metadata": {},
   "source": [
    "Phew! We can rest assured that AI still cannot become our overlords and replace us yet! Let us try another text:"
   ]
  },
  {
   "cell_type": "code",
   "execution_count": 62,
   "metadata": {
    "ExecuteTime": {
     "end_time": "2020-10-08T02:46:25.673530Z",
     "start_time": "2020-10-08T02:46:24.898247Z"
    }
   },
   "outputs": [
    {
     "name": "stderr",
     "output_type": "stream",
     "text": [
      "Setting `pad_token_id` to 50256 (first `eos_token_id`) to generate sequence\n"
     ]
    },
    {
     "data": {
      "text/plain": [
       "[{'generated_text': 'There are many legendary researchers in AI. The most important researcher in AI is the famous mathematician and philosopher, Albert Einstein. He was the first to use the term \"intelligent\" in his book, The Theory of Everything. He was also the first to use the term \"intelligent\" in his'}]"
      ]
     },
     "execution_count": 62,
     "metadata": {},
     "output_type": "execute_result"
    }
   ],
   "source": [
    "text = r'There are many legendary researchers in AI. The most important researcher in AI is'\n",
    "text_generator(text, max_length=max_length, do_sample=False)"
   ]
  },
  {
   "cell_type": "markdown",
   "metadata": {},
   "source": [
    "# Named Entity Recognition\n",
    "\n",
    "A named entity is a person, a location, an organization, etc."
   ]
  },
  {
   "cell_type": "code",
   "execution_count": 64,
   "metadata": {
    "ExecuteTime": {
     "end_time": "2020-10-08T02:53:01.097956Z",
     "start_time": "2020-10-08T02:52:51.751692Z"
    }
   },
   "outputs": [
    {
     "data": {
      "text/plain": [
       "[{'word': 'Support',\n",
       "  'score': 0.9386759400367737,\n",
       "  'entity': 'I-ORG',\n",
       "  'index': 9},\n",
       " {'word': '##ve', 'score': 0.9356099367141724, 'entity': 'I-ORG', 'index': 10},\n",
       " {'word': '##ctors',\n",
       "  'score': 0.9391953945159912,\n",
       "  'entity': 'I-ORG',\n",
       "  'index': 11},\n",
       " {'word': 'Fr', 'score': 0.9946166276931763, 'entity': 'I-LOC', 'index': 17},\n",
       " {'word': '##emont',\n",
       "  'score': 0.9912159442901611,\n",
       "  'entity': 'I-LOC',\n",
       "  'index': 18},\n",
       " {'word': 'CA', 'score': 0.9523749947547913, 'entity': 'I-LOC', 'index': 20},\n",
       " {'word': 'As', 'score': 0.9996069669723511, 'entity': 'I-PER', 'index': 22},\n",
       " {'word': '##if', 'score': 0.9994383454322815, 'entity': 'I-PER', 'index': 23},\n",
       " {'word': 'Q', 'score': 0.9995712637901306, 'entity': 'I-PER', 'index': 24},\n",
       " {'word': '##ama',\n",
       "  'score': 0.9949106574058533,\n",
       "  'entity': 'I-PER',\n",
       "  'index': 25},\n",
       " {'word': '##r', 'score': 0.9918298721313477, 'entity': 'I-PER', 'index': 26}]"
      ]
     },
     "execution_count": 64,
     "metadata": {},
     "output_type": "execute_result"
    }
   ],
   "source": [
    "ner = pipeline(\"ner\")\n",
    "text = r'There are many excellent AI workshops offered by Supportvectors, which is located in Fremont, CA. Asif Qamar is one of the instructors.'\n",
    "ner(text)"
   ]
  },
  {
   "cell_type": "code",
   "execution_count": null,
   "metadata": {},
   "outputs": [],
   "source": []
  }
 ],
 "metadata": {
  "kernelspec": {
   "display_name": "Python 3",
   "language": "python",
   "name": "python3"
  },
  "language_info": {
   "codemirror_mode": {
    "name": "ipython",
    "version": 3
   },
   "file_extension": ".py",
   "mimetype": "text/x-python",
   "name": "python",
   "nbconvert_exporter": "python",
   "pygments_lexer": "ipython3",
   "version": "3.8.3"
  },
  "latex_envs": {
   "LaTeX_envs_menu_present": true,
   "autoclose": false,
   "autocomplete": true,
   "bibliofile": "biblio.bib",
   "cite_by": "apalike",
   "current_citInitial": 1,
   "eqLabelWithNumbers": true,
   "eqNumInitial": 1,
   "hotkeys": {
    "equation": "Ctrl-E",
    "itemize": "Ctrl-I"
   },
   "labels_anchors": false,
   "latex_user_defs": false,
   "report_style_numbering": false,
   "user_envs_cfg": false
  },
  "toc": {
   "base_numbering": 1,
   "nav_menu": {},
   "number_sections": true,
   "sideBar": true,
   "skip_h1_title": false,
   "title_cell": "Table of Contents",
   "title_sidebar": "Contents",
   "toc_cell": false,
   "toc_position": {},
   "toc_section_display": true,
   "toc_window_display": false
  }
 },
 "nbformat": 4,
 "nbformat_minor": 4
}
